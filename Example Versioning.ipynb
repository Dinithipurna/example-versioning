{
 "cells": [
  {
   "cell_type": "markdown",
   "id": "2d76b0fa-f117-4710-9dad-5f7b871e4602",
   "metadata": {},
   "source": [
    "# Versioning Example"
   ]
  },
  {
   "cell_type": "markdown",
   "id": "581e65cb-c30c-4f6d-8e3c-bb68bf2b7624",
   "metadata": {},
   "source": [
    "###  This notebook contains two parts \n",
    "1. Part1: Versioning with dvc\n",
    "2. Part2: Working with versioned dvc repositories "
   ]
  },
  {
   "cell_type": "markdown",
   "id": "a20cef08-513e-4648-9e55-a939e88bc4fc",
   "metadata": {},
   "source": [
    "### PART1: MODEL VERSIONING WITH DVC"
   ]
  },
  {
   "cell_type": "markdown",
   "id": "0671ea71-9dcd-46bd-98ca-3cd8be3fb57b",
   "metadata": {},
   "source": [
    "Let's build a model to classify dogs and cats based on the images"
   ]
  },
  {
   "cell_type": "markdown",
   "id": "8fd12ba5-bce0-442c-9e05-0a60c6a00f22",
   "metadata": {},
   "source": [
    "We first train a classifier model using 1000 labeled images, then we double the number of images (2000) and retrain our model. We capture both datasets and classifier results and show how to use dvc checkout to switch between workspace versions."
   ]
  },
  {
   "cell_type": "markdown",
   "id": "09fe4574-2fd7-409c-afe2-743e2e2b0dd7",
   "metadata": {},
   "source": [
    "Downloading the code and seting up a Git repository:\n",
    "Code is from a tutorial of François Chollet"
   ]
  },
  {
   "cell_type": "code",
   "execution_count": null,
   "id": "bb413ebe-be2e-428b-be30-92dcb359fa97",
   "metadata": {},
   "outputs": [],
   "source": [
    "!git clone https://github.com/iterative/example-versioning.git\n",
    "cd example-versioning"
   ]
  },
  {
   "cell_type": "markdown",
   "id": "7c81819a-debd-4a80-bbe7-530c8448fb64",
   "metadata": {},
   "source": [
    "Creata a virtual environment and install the requirements(YOu can creata a conda environment instead of this."
   ]
  },
  {
   "cell_type": "code",
   "execution_count": null,
   "id": "c0afb509-71af-4cca-a8a2-6c52e959e41f",
   "metadata": {},
   "outputs": [],
   "source": [
    "!python3 -m venv .env\n",
    "!source .env/bin/activate\n",
    "!pip install -r requirements.txt"
   ]
  },
  {
   "cell_type": "markdown",
   "id": "a8d44d9a-bca9-45f1-8c45-1c4ee0dcebe4",
   "metadata": {},
   "source": [
    "#### First model version"
   ]
  },
  {
   "cell_type": "markdown",
   "id": "c18465b8-8827-49ad-9638-b2199f00351a",
   "metadata": {},
   "source": [
    "Adding data"
   ]
  },
  {
   "cell_type": "code",
   "execution_count": null,
   "id": "b7b4f8cd-c2e5-4f3d-b018-90b3c716d94a",
   "metadata": {},
   "outputs": [],
   "source": [
    "!dvc get https://github.com/iterative/dataset-registry \\\n",
    "          tutorials/versioning/data.zip\n",
    "!unzip -q data.zip\n",
    "!rm -f data.zip"
   ]
  },
  {
   "cell_type": "markdown",
   "id": "00ec3b75-c73a-4d7f-b26a-5a2f1e5e3d3e",
   "metadata": {},
   "source": [
    "Capturing the current state of this dataset with dvc add"
   ]
  },
  {
   "cell_type": "code",
   "execution_count": null,
   "id": "2072b47b-0739-4d0f-858a-2982f69c56b2",
   "metadata": {},
   "outputs": [],
   "source": [
    "!dvc add data"
   ]
  },
  {
   "cell_type": "markdown",
   "id": "b8393860-e050-495a-aa69-d32c2bc173e1",
   "metadata": {},
   "source": [
    "Training and adding the trained model with dvc"
   ]
  },
  {
   "cell_type": "code",
   "execution_count": null,
   "id": "2c903292-7f98-4726-855b-9108a31e4503",
   "metadata": {},
   "outputs": [],
   "source": [
    "!python train.py\n",
    "!dvc add model.h5"
   ]
  },
  {
   "cell_type": "markdown",
   "id": "e94b6867-dab0-4bbb-9519-7ef2a64889cc",
   "metadata": {},
   "source": [
    "Commiting the current state"
   ]
  },
  {
   "cell_type": "code",
   "execution_count": null,
   "id": "8edce55a-0282-4f23-86f3-74075ad2649d",
   "metadata": {},
   "outputs": [],
   "source": [
    "!git add data.dvc model.h5.dvc metrics.csv .gitignore\n",
    "!git commit -m \"First model, trained with 1000 images\"\n",
    "!git tag -a \"v1.0\" -m \"model v1.0, 1000 images\""
   ]
  },
  {
   "cell_type": "markdown",
   "id": "2b4e56cb-674d-4e24-893c-1fdfc18b6f5c",
   "metadata": {},
   "source": [
    "#### Second model version"
   ]
  },
  {
   "cell_type": "code",
   "execution_count": null,
   "id": "fdd2f92d-9cdd-4526-b1d6-0321090c5f66",
   "metadata": {},
   "outputs": [],
   "source": [
    "extracts 500 new cat images and 500 new dog images into data/train"
   ]
  },
  {
   "cell_type": "code",
   "execution_count": null,
   "id": "ff4cf405-4714-437f-bfda-43247a5ceeba",
   "metadata": {},
   "outputs": [],
   "source": [
    "!dvc get https://github.com/iterative/dataset-registry \\\n",
    "          tutorials/versioning/new-labels.zip\n",
    "!unzip -q new-labels.zip\n",
    "!rm -f new-labels.zip"
   ]
  },
  {
   "cell_type": "markdown",
   "id": "48fab893-026f-49f5-b2d5-5074b49d6776",
   "metadata": {},
   "source": [
    "Leverage these new labels and retrain the mode"
   ]
  },
  {
   "cell_type": "code",
   "execution_count": null,
   "id": "6be00cb7-1e76-4acd-887b-aec2c1445ccc",
   "metadata": {},
   "outputs": [],
   "source": [
    "!dvc add data\n",
    "!python train.py\n",
    "!dvc add model.h5"
   ]
  },
  {
   "cell_type": "code",
   "execution_count": null,
   "id": "229207a7-965c-4eab-b9ba-202909d6a244",
   "metadata": {},
   "outputs": [],
   "source": [
    "!git add data.dvc model.h5.dvc metrics.csv\n",
    "!git commit -m \"Second model, trained with 2000 images\"\n",
    "!git tag -a \"v2.0\" -m \"model v2.0, 2000 images\""
   ]
  },
  {
   "cell_type": "markdown",
   "id": "8c1ce410-525d-4fa5-9f70-5122788b2acf",
   "metadata": {},
   "source": [
    "To switch between workspace versions you can use;"
   ]
  },
  {
   "cell_type": "code",
   "execution_count": null,
   "id": "418f1fab-72eb-4561-9bf2-f0fa07e965d3",
   "metadata": {},
   "outputs": [],
   "source": [
    "git checkout v1.0\n",
    "$ dvc checkout"
   ]
  },
  {
   "cell_type": "markdown",
   "id": "f4472f4f-0ca3-43af-90d5-4f4920521898",
   "metadata": {},
   "source": [
    "Pushing the dvc data to a remote repository\n",
    "1. We have a google drive folder at https://drive.google.com/drive/folders/15kNDc1-SchSZsb1l-rt0ymG0nG7SLqe5?usp=sharing\n",
    "2. We can use a drive folder like this to pull the dvc tracked files and cache"
   ]
  },
  {
   "cell_type": "code",
   "execution_count": null,
   "id": "0a1dc2a4-817d-43b8-accc-a5cb47004883",
   "metadata": {},
   "outputs": [],
   "source": [
    "!dvc remote add --default myremote gdrive://15kNDc1-SchSZsb1l-rt0ymG0nG7SLqe5\n",
    "!dvc push"
   ]
  },
  {
   "cell_type": "markdown",
   "id": "78372c12-2073-4d34-920c-34294f211aa4",
   "metadata": {},
   "source": [
    "Now we have all the dvc tracked versions and files in the google drive"
   ]
  },
  {
   "cell_type": "markdown",
   "id": "ccd638f1-c467-4f86-aa54-68c855509a04",
   "metadata": {},
   "source": [
    "### PART2: Working with versioned dvc repositories"
   ]
  },
  {
   "cell_type": "markdown",
   "id": "9c477658-5071-455c-b087-5517014e9cd7",
   "metadata": {},
   "source": [
    "A versioned repository of PART1 is available at https://github.com/Dinithipurna/example-versioning.git"
   ]
  },
  {
   "cell_type": "markdown",
   "id": "aee8e33d-5104-4212-842b-cbcd2f161e92",
   "metadata": {},
   "source": [
    "Let's clone that and see how we can get the versioning on track again"
   ]
  },
  {
   "cell_type": "code",
   "execution_count": null,
   "id": "8fd644dc-be12-4b63-84c9-7630c54c8459",
   "metadata": {},
   "outputs": [],
   "source": [
    "!git clone https://github.com/Dinithipurna/example-versioning.git"
   ]
  },
  {
   "cell_type": "code",
   "execution_count": null,
   "id": "dfa76dee-8c36-4d35-9e2d-5db0c8208dc0",
   "metadata": {},
   "outputs": [],
   "source": [
    "#have the same remote dvc storage configured\n",
    "!dvc remote add --default myremote gdrive://15kNDc1-SchSZsb1l-rt0ymG0nG7SLqe5"
   ]
  },
  {
   "cell_type": "code",
   "execution_count": null,
   "id": "7caefe26-865d-4404-935e-0312f7334c27",
   "metadata": {},
   "outputs": [],
   "source": [
    "!dvc fetch\n",
    "!dvc pull"
   ]
  },
  {
   "cell_type": "markdown",
   "id": "ee33412b-6235-450c-b878-ed7a9a70046c",
   "metadata": {},
   "source": [
    "now you will get the data files downloaded to your new repository with all the dvc versioning data"
   ]
  },
  {
   "cell_type": "code",
   "execution_count": 11,
   "id": "2c5be9e1-ab15-4f8b-bccd-179167c96977",
   "metadata": {},
   "outputs": [
    {
     "data": {
      "text/plain": [
       "'/Users/macbook/Documents/GitHub/example-versioning'"
      ]
     },
     "execution_count": 11,
     "metadata": {},
     "output_type": "execute_result"
    }
   ],
   "source": [
    "pwd"
   ]
  },
  {
   "cell_type": "code",
   "execution_count": 12,
   "id": "771fce8a-304c-4eda-855f-a7f1d8d4fe3e",
   "metadata": {},
   "outputs": [
    {
     "name": "stdout",
     "output_type": "stream",
     "text": [
      "zsh:1: command not found: dvc\n"
     ]
    }
   ],
   "source": [
    "!dvc checkout"
   ]
  },
  {
   "cell_type": "code",
   "execution_count": null,
   "id": "c998f4ce-4b3f-4e4e-86d0-05173df97516",
   "metadata": {},
   "outputs": [],
   "source": []
  }
 ],
 "metadata": {
  "kernelspec": {
   "display_name": "dvc",
   "language": "python",
   "name": "dvc1"
  },
  "language_info": {
   "codemirror_mode": {
    "name": "ipython",
    "version": 3
   },
   "file_extension": ".py",
   "mimetype": "text/x-python",
   "name": "python",
   "nbconvert_exporter": "python",
   "pygments_lexer": "ipython3",
   "version": "3.10.4"
  }
 },
 "nbformat": 4,
 "nbformat_minor": 5
}
